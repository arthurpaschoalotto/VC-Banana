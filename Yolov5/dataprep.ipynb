{
 "cells": [
  {
   "cell_type": "code",
   "execution_count": 1,
   "metadata": {},
   "outputs": [],
   "source": [
    "import os\n",
    "import cv2\n",
    "import numpy as np"
   ]
  },
  {
   "cell_type": "markdown",
   "metadata": {},
   "source": [
    "# Pre-processamento dos dados para Yolov5m\n",
    "* Tamanho: 640x640 pixels\n",
    "* Normalização: 0 a 1, divida os pixels por 255"
   ]
  },
  {
   "cell_type": "code",
   "execution_count": 7,
   "metadata": {},
   "outputs": [],
   "source": [
    "def red_norm(dir_imagens, dir_destino, tamanho_entrada, name_img):\n",
    "    # Carregue a imagem usando OpenCV\n",
    "    imagem = cv2.imread(dir_imagens)\n",
    "\n",
    "    # Redimensione a imagem para o tamanho de entrada desejado\n",
    "    imagem_redimensionada = cv2.resize(imagem, tamanho_entrada)\n",
    "\n",
    "    # Normalize os valores dos pixels para a faixa [0, 1]\n",
    "    imagem_normalizada = imagem_redimensionada / 255.0\n",
    "\n",
    "    # Crie o nome do arquivo para salvar\n",
    "    nome_arquivo = f\"{dir_destino}/{name_img}.jpg\"\n",
    "\n",
    "    # Salve a imagem no diretório de destino\n",
    "    cv2.imwrite(nome_arquivo, (imagem_normalizada * 255).astype(np.uint8))\n",
    "\n",
    "    # Proxima imagem\n",
    "    name_img =+1"
   ]
  },
  {
   "cell_type": "code",
   "execution_count": 9,
   "metadata": {},
   "outputs": [],
   "source": [
    "name_img = 0\n",
    "dir_imagens = '../../Data/banana/'\n",
    "dir_destino = '../../Data/prep-banana/'\n",
    "tamanho_entrada = (640, 640)\n",
    "os.makedirs(dir_destino, exist_ok=True) # Cria a pasta se não existir\n",
    "\n",
    "# Lista todas as imagens no diretório de origem\n",
    "imagens = [os.path.join(dir_imagens, arquivo) for arquivo in os.listdir(dir_imagens) if arquivo.endswith(('.jpg', '.jpeg', '.png', '.bmp'))]"
   ]
  },
  {
   "cell_type": "code",
   "execution_count": 10,
   "metadata": {},
   "outputs": [],
   "source": [
    "# Processar e salvar todas as imagens\n",
    "for numero, dir_imagens in enumerate(imagens, 1):\n",
    "    red_norm(dir_imagens, dir_destino, tamanho_entrada, numero)"
   ]
  },
  {
   "cell_type": "code",
   "execution_count": 10,
   "metadata": {},
   "outputs": [
    {
     "name": "stdout",
     "output_type": "stream",
     "text": [
      "Verificação concluída.\n"
     ]
    }
   ],
   "source": [
    "import os\n",
    "\n",
    "# Diretório das imagens de treinamento\n",
    "diretorio = '../../Data/Arquivo-Final/treino/'\n",
    "\n",
    "# Listar todos os arquivos no diretório\n",
    "arquivos = os.listdir(diretorio)\n",
    "\n",
    "# Filtrar apenas os arquivos com extensão .txt\n",
    "arquivos_txt = [arquivo for arquivo in arquivos if arquivo.endswith('.txt')]\n",
    "\n",
    "# Função para verificar se um arquivo não contém linhas que começam com \"15\"\n",
    "def verifica_arquivo(arquivo):\n",
    "    with open(os.path.join(diretorio, arquivo), 'r') as file:\n",
    "        linhas = file.readlines()\n",
    "        for linha in linhas:\n",
    "            if not linha.startswith('0 '):\n",
    "                return True\n",
    "    return False\n",
    "\n",
    "# Listar os arquivos .txt no diretório que não contêm linhas começando com \"15\"\n",
    "arquivos_sem_linhas_15 = [arquivo for arquivo in arquivos_txt if verifica_arquivo(arquivo)]\n",
    "\n",
    "# Imprimir os nomes dos arquivos\n",
    "for arquivo in arquivos_sem_linhas_15:\n",
    "    print(f\"O arquivo {arquivo} não contém linhas que começam com '15'\")\n",
    "\n",
    "print(\"Verificação concluída.\")"
   ]
  },
  {
   "cell_type": "code",
   "execution_count": 11,
   "metadata": {},
   "outputs": [
    {
     "name": "stdout",
     "output_type": "stream",
     "text": [
      "Substituição concluída.\n"
     ]
    }
   ],
   "source": [
    "import os\n",
    "\n",
    "# Diretório das imagens de treinamento\n",
    "diretorio = '../../Data/Arquivo-Final/validacao/'\n",
    "\n",
    "# Listar todos os arquivos no diretório\n",
    "arquivos = os.listdir(diretorio)\n",
    "\n",
    "# Filtrar apenas os arquivos com extensão .txt\n",
    "arquivos_txt = [arquivo for arquivo in arquivos if arquivo.endswith('.txt')]\n",
    "\n",
    "# Função para substituir \"15\" por \"0\" em um arquivo\n",
    "def substituir_15_por_0(arquivo):\n",
    "    with open(os.path.join(diretorio, arquivo), 'r') as file:\n",
    "        linhas = file.readlines()\n",
    "\n",
    "    with open(os.path.join(diretorio, arquivo), 'w') as file:\n",
    "        for linha in linhas:\n",
    "            # Substitui \"15\" por \"0\"\n",
    "            nova_linha = linha.replace(\"15 \", \"0 \")\n",
    "            file.write(nova_linha)\n",
    "\n",
    "# Itera sobre os arquivos .txt e realiza a substituição\n",
    "for arquivo in arquivos_txt:\n",
    "    substituir_15_por_0(arquivo)\n",
    "\n",
    "print(\"Substituição concluída.\")"
   ]
  }
 ],
 "metadata": {
  "kernelspec": {
   "display_name": "ubv-banana",
   "language": "python",
   "name": "python3"
  },
  "language_info": {
   "codemirror_mode": {
    "name": "ipython",
    "version": 3
   },
   "file_extension": ".py",
   "mimetype": "text/x-python",
   "name": "python",
   "nbconvert_exporter": "python",
   "pygments_lexer": "ipython3",
   "version": "3.9.0"
  }
 },
 "nbformat": 4,
 "nbformat_minor": 2
}
